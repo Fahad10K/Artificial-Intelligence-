{
 "cells": [
  {
   "cell_type": "code",
   "execution_count": 1,
   "id": "7dfe2c8b",
   "metadata": {},
   "outputs": [
    {
     "name": "stdout",
     "output_type": "stream",
     "text": [
      "Following is the Depth-First Search\n",
      "5\n",
      "3\n",
      "2\n",
      "4\n",
      "8\n",
      "7\n"
     ]
    }
   ],
   "source": [
    "#Wih recusrion\n",
    "\n",
    "graph = {\n",
    "  '5' : ['3','7'],\n",
    "  '3' : ['2', '4'],\n",
    "  '7' : ['8'],\n",
    "  '2' : [],\n",
    "  '4' : ['8'],\n",
    "  '8' : []\n",
    "}\n",
    "\n",
    "visited = set() # Set to keep track of visited nodes of graph.\n",
    "\n",
    "def dfs(visited, graph, node):  #function for dfs \n",
    "    if node not in visited:\n",
    "        print (node)\n",
    "        visited.add(node)\n",
    "        for neighbour in graph[node]:\n",
    "            dfs(visited, graph, neighbour)\n",
    "\n",
    "# Driver Code\n",
    "print(\"Following is the Depth-First Search\")\n",
    "dfs(visited, graph, '5')"
   ]
  },
  {
   "cell_type": "code",
   "execution_count": 10,
   "id": "4295671a",
   "metadata": {},
   "outputs": [
    {
     "name": "stdout",
     "output_type": "stream",
     "text": [
      "5\n",
      "7\n",
      "8\n",
      "3\n",
      "4\n",
      "2\n"
     ]
    }
   ],
   "source": [
    "#without Recursion\n",
    "graph = {\n",
    "  '5' : ['3','7'],\n",
    "  '3' : ['2', '4'],\n",
    "  '7' : ['8'],\n",
    "  '2' : [],\n",
    "  '4' : ['8'],\n",
    "  '8' : []\n",
    "}\n",
    "def dfs(graph, start):\n",
    "    visited = set()  # To keep track of visited nodes\n",
    "    stack = [start]  # Stack to store nodes for DFS traversal\n",
    "\n",
    "    while stack:\n",
    "        node = stack.pop()  # Get the next node from the stack\n",
    "\n",
    "        if node not in visited:\n",
    "            print(node)  # Process the node (e.g., print or do some other operation)\n",
    "            visited.add(node)  # Mark the node as visited\n",
    "\n",
    "            # Add unvisited neighboring nodes to the stack\n",
    "            for neighbor in graph[node]:\n",
    "                if neighbor not in visited:\n",
    "                    stack.append(neighbor)\n",
    "dfs(graph,'5')\n"
   ]
  },
  {
   "cell_type": "code",
   "execution_count": null,
   "id": "d1a837fa",
   "metadata": {},
   "outputs": [],
   "source": []
  }
 ],
 "metadata": {
  "kernelspec": {
   "display_name": "Python 3 (ipykernel)",
   "language": "python",
   "name": "python3"
  },
  "language_info": {
   "codemirror_mode": {
    "name": "ipython",
    "version": 3
   },
   "file_extension": ".py",
   "mimetype": "text/x-python",
   "name": "python",
   "nbconvert_exporter": "python",
   "pygments_lexer": "ipython3",
   "version": "3.9.7"
  }
 },
 "nbformat": 4,
 "nbformat_minor": 5
}
