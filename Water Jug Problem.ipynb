{
 "cells": [
  {
   "cell_type": "code",
   "execution_count": 1,
   "id": "5e52b522",
   "metadata": {},
   "outputs": [
    {
     "name": "stdout",
     "output_type": "stream",
     "text": [
      "Steps: \n",
      "0 0\n",
      "4 0\n",
      "4 3\n",
      "0 3\n",
      "3 0\n",
      "3 3\n",
      "4 2\n",
      "0 2\n"
     ]
    },
    {
     "data": {
      "text/plain": [
       "True"
      ]
     },
     "execution_count": 1,
     "metadata": {},
     "output_type": "execute_result"
    }
   ],
   "source": [
    "# dictionary elements with a default value.\n",
    "from collections import defaultdict\n",
    " \n",
    "# jug1 and jug2 contain the value\n",
    "# for max capacity in respective jugs\n",
    "# and aim is the amount of water to be measured.\n",
    "jug1, jug2, aim = 4, 3, 2\n",
    " \n",
    "# Initialize dictionary with\n",
    "# default value as false.\n",
    "visited = defaultdict(lambda: False)\n",
    " \n",
    "# Recursive function which prints the\n",
    "# intermediate steps to reach the final\n",
    "# solution and return boolean value\n",
    "# (True if solution is possible, otherwise False).\n",
    "# amt1 and amt2 are the amount of water present\n",
    "# in both jugs at a certain point of time.\n",
    "def waterJugSolver(amt1, amt2):\n",
    " \n",
    "    # Checks for our goal and\n",
    "    # returns true if achieved.\n",
    "    if (amt1 == aim and amt2 == 0) or (amt2 == aim and amt1 == 0):\n",
    "        print(amt1, amt2)\n",
    "        return True\n",
    "     \n",
    "    # Checks if we have already visited the\n",
    "    # combination or not. If not, then it proceeds further.\n",
    "    if visited[(amt1, amt2)] == False:\n",
    "        print(amt1, amt2)\n",
    "     \n",
    "        # Changes the boolean value of\n",
    "        # the combination as it is visited.\n",
    "        visited[(amt1, amt2)] = True\n",
    "     \n",
    "        # Check for all the 6 possibilities and\n",
    "        # see if a solution is found in any one of them.\n",
    "        return (waterJugSolver(0, amt2) or\n",
    "                waterJugSolver(amt1, 0) or\n",
    "                waterJugSolver(jug1, amt2) or\n",
    "                waterJugSolver(amt1, jug2) or\n",
    "                waterJugSolver(amt1 + min(amt2, (jug1-amt1)),\n",
    "                amt2 - min(amt2, (jug1-amt1))) or\n",
    "                waterJugSolver(amt1 - min(amt1, (jug2-amt2)),\n",
    "                amt2 + min(amt1, (jug2-amt2))))\n",
    "     \n",
    "    # Return False if the combination is\n",
    "    # already visited to avoid repetition otherwise\n",
    "    # recursion will enter an infinite loop.\n",
    "    else:\n",
    "        return False\n",
    " \n",
    "print(\"Steps: \")\n",
    " \n",
    "# Call the function and pass the\n",
    "# initial amount of water present in both jugs.\n",
    "waterJugSolver(0, 0)"
   ]
  },
  {
   "cell_type": "code",
   "execution_count": null,
   "id": "9b7f587d",
   "metadata": {},
   "outputs": [],
   "source": []
  }
 ],
 "metadata": {
  "kernelspec": {
   "display_name": "Python 3 (ipykernel)",
   "language": "python",
   "name": "python3"
  },
  "language_info": {
   "codemirror_mode": {
    "name": "ipython",
    "version": 3
   },
   "file_extension": ".py",
   "mimetype": "text/x-python",
   "name": "python",
   "nbconvert_exporter": "python",
   "pygments_lexer": "ipython3",
   "version": "3.9.7"
  }
 },
 "nbformat": 4,
 "nbformat_minor": 5
}
